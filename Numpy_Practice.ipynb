{
 "cells": [
  {
   "cell_type": "code",
   "execution_count": 5,
   "metadata": {},
   "outputs": [],
   "source": [
    "#Numpy is a math library for python. It enables us to do computation efficiently and effectively\n",
    "\n",
    "# Imports NumPy as np. The variable np acts a reference to the NumPy module\n",
    "import numpy as np\n",
    "\n"
   ]
  },
  {
   "cell_type": "markdown",
   "metadata": {},
   "source": [
    "# Lets practice the methods available in the numpy"
   ]
  },
  {
   "cell_type": "markdown",
   "metadata": {},
   "source": [
    "### 1. Method Numpy array"
   ]
  },
  {
   "cell_type": "raw",
   "metadata": {},
   "source": [
    "Syntax:  np.array([1,2,3,4,5,6])"
   ]
  },
  {
   "cell_type": "code",
   "execution_count": null,
   "metadata": {},
   "outputs": [],
   "source": [
    "#Python array\n",
    "arr = [1,2,3,4,5]\n",
    "\n",
    "#numpy array\n",
    "numpy_arr = np.array(arr)\n",
    "\n",
    "print(arr)\n",
    "print(numpy_arr)\n",
    "#############################################"
   ]
  },
  {
   "cell_type": "markdown",
   "metadata": {},
   "source": [
    "### 2. Method Numpy arange"
   ]
  },
  {
   "cell_type": "raw",
   "metadata": {},
   "source": [
    "# Syntax:  np.arange(start,stop,step)\n",
    "# Start is inclusive, Stop is exclusive and step is the increment from Start to Stop-1"
   ]
  },
  {
   "cell_type": "code",
   "execution_count": 15,
   "metadata": {},
   "outputs": [
    {
     "data": {
      "text/plain": [
       "array([ 1,  2,  3,  4,  5,  6,  7,  8,  9, 10, 11, 12, 13, 14, 15, 16, 17,\n",
       "       18, 19])"
      ]
     },
     "execution_count": 15,
     "metadata": {},
     "output_type": "execute_result"
    }
   ],
   "source": [
    "# 2. Method Numpy arange\n",
    "\n",
    "\n",
    "np.arange(1,20,1)\n",
    "\n"
   ]
  },
  {
   "cell_type": "code",
   "execution_count": 16,
   "metadata": {},
   "outputs": [
    {
     "data": {
      "text/plain": [
       "array([20, 19, 18, 17, 16, 15, 14, 13, 12, 11, 10,  9,  8,  7,  6,  5,  4,\n",
       "        3,  2])"
      ]
     },
     "execution_count": 16,
     "metadata": {},
     "output_type": "execute_result"
    }
   ],
   "source": [
    "np.arange(20,1,-1)"
   ]
  },
  {
   "cell_type": "code",
   "execution_count": 19,
   "metadata": {},
   "outputs": [
    {
     "data": {
      "text/plain": [
       "array([  0,   5,  10,  15,  20,  25,  30,  35,  40,  45,  50,  55,  60,\n",
       "        65,  70,  75,  80,  85,  90,  95, 100])"
      ]
     },
     "execution_count": 19,
     "metadata": {},
     "output_type": "execute_result"
    }
   ],
   "source": [
    "np.arange(0,101,5)"
   ]
  },
  {
   "cell_type": "markdown",
   "metadata": {},
   "source": [
    "### 3. Usage of Shape and Reshape of an array"
   ]
  },
  {
   "cell_type": "raw",
   "metadata": {},
   "source": [
    "#Syntax:  np.shape(array)"
   ]
  },
  {
   "cell_type": "code",
   "execution_count": 41,
   "metadata": {},
   "outputs": [
    {
     "name": "stdout",
     "output_type": "stream",
     "text": [
      "[1, 2, 3, 4, 5, 6]\n"
     ]
    }
   ],
   "source": [
    "\n",
    "A = [1,2,3,4,5,6]\n",
    "print(A)\n",
    "A = np.array(A)"
   ]
  },
  {
   "cell_type": "code",
   "execution_count": 42,
   "metadata": {},
   "outputs": [
    {
     "name": "stdout",
     "output_type": "stream",
     "text": [
      "[1 2 3 4 5 6]\n"
     ]
    }
   ],
   "source": [
    "print(A)"
   ]
  },
  {
   "cell_type": "code",
   "execution_count": 43,
   "metadata": {},
   "outputs": [
    {
     "data": {
      "text/plain": [
       "array([[1, 2, 3],\n",
       "       [4, 5, 6]])"
      ]
     },
     "execution_count": 43,
     "metadata": {},
     "output_type": "execute_result"
    }
   ],
   "source": [
    "A.shape\n",
    "A.reshape(2,3)\n"
   ]
  },
  {
   "cell_type": "code",
   "execution_count": 45,
   "metadata": {},
   "outputs": [
    {
     "data": {
      "text/plain": [
       "(100,)"
      ]
     },
     "execution_count": 45,
     "metadata": {},
     "output_type": "execute_result"
    }
   ],
   "source": [
    "#Declare an array from 1 to 100\n",
    "B = np.arange(1,101,1)\n",
    "B.shape"
   ]
  },
  {
   "cell_type": "code",
   "execution_count": 58,
   "metadata": {},
   "outputs": [
    {
     "name": "stdout",
     "output_type": "stream",
     "text": [
      "[  1   2   3   4   5   6   7   8   9  10  11  12  13  14  15  16  17  18\n",
      "  19  20  21  22  23  24  25  26  27  28  29  30  31  32  33  34  35  36\n",
      "  37  38  39  40  41  42  43  44  45  46  47  48  49  50  51  52  53  54\n",
      "  55  56  57  58  59  60  61  62  63  64  65  66  67  68  69  70  71  72\n",
      "  73  74  75  76  77  78  79  80  81  82  83  84  85  86  87  88  89  90\n",
      "  91  92  93  94  95  96  97  98  99 100] \n",
      " [[  1   2   3   4   5   6   7   8   9  10]\n",
      " [ 11  12  13  14  15  16  17  18  19  20]\n",
      " [ 21  22  23  24  25  26  27  28  29  30]\n",
      " [ 31  32  33  34  35  36  37  38  39  40]\n",
      " [ 41  42  43  44  45  46  47  48  49  50]\n",
      " [ 51  52  53  54  55  56  57  58  59  60]\n",
      " [ 61  62  63  64  65  66  67  68  69  70]\n",
      " [ 71  72  73  74  75  76  77  78  79  80]\n",
      " [ 81  82  83  84  85  86  87  88  89  90]\n",
      " [ 91  92  93  94  95  96  97  98  99 100]]\n"
     ]
    }
   ],
   "source": [
    "C= B.reshape(10,10)\n",
    "print(B,'\\n' ,C)\n"
   ]
  },
  {
   "cell_type": "markdown",
   "metadata": {},
   "source": [
    "### 4. Define zeros using numpy"
   ]
  },
  {
   "cell_type": "raw",
   "metadata": {},
   "source": [
    "#Syntax: np.zeros((m,n)) where m,n are the rows and columns of the matrix"
   ]
  },
  {
   "cell_type": "code",
   "execution_count": 59,
   "metadata": {},
   "outputs": [
    {
     "data": {
      "text/plain": [
       "array([[0., 0., 0., 0., 0.],\n",
       "       [0., 0., 0., 0., 0.],\n",
       "       [0., 0., 0., 0., 0.],\n",
       "       [0., 0., 0., 0., 0.],\n",
       "       [0., 0., 0., 0., 0.]])"
      ]
     },
     "execution_count": 59,
     "metadata": {},
     "output_type": "execute_result"
    }
   ],
   "source": [
    "np.zeros((5,5))"
   ]
  },
  {
   "cell_type": "code",
   "execution_count": 62,
   "metadata": {},
   "outputs": [
    {
     "data": {
      "text/plain": [
       "array([[0., 0., 0., 0., 0., 0., 0., 0., 0., 0.],\n",
       "       [0., 0., 0., 0., 0., 0., 0., 0., 0., 0.],\n",
       "       [0., 0., 0., 0., 0., 0., 0., 0., 0., 0.],\n",
       "       [0., 0., 0., 0., 0., 0., 0., 0., 0., 0.],\n",
       "       [0., 0., 0., 0., 0., 0., 0., 0., 0., 0.]])"
      ]
     },
     "execution_count": 62,
     "metadata": {},
     "output_type": "execute_result"
    }
   ],
   "source": [
    "np.zeros((5,10))"
   ]
  },
  {
   "cell_type": "markdown",
   "metadata": {},
   "source": [
    "### 5. Define Identity matrix using eye method"
   ]
  },
  {
   "cell_type": "raw",
   "metadata": {},
   "source": [
    "#Syntax:  np.eye(m), it prints the identity matrix of m rows and m columns.\n",
    "# Identity Matrix is always a Square matrix"
   ]
  },
  {
   "cell_type": "code",
   "execution_count": 63,
   "metadata": {},
   "outputs": [
    {
     "data": {
      "text/plain": [
       "array([[1., 0., 0., 0., 0.],\n",
       "       [0., 1., 0., 0., 0.],\n",
       "       [0., 0., 1., 0., 0.],\n",
       "       [0., 0., 0., 1., 0.],\n",
       "       [0., 0., 0., 0., 1.]])"
      ]
     },
     "execution_count": 63,
     "metadata": {},
     "output_type": "execute_result"
    }
   ],
   "source": [
    "np.eye(5)"
   ]
  },
  {
   "cell_type": "markdown",
   "metadata": {},
   "source": [
    "### 6. Matrix Multiplication using the dot product"
   ]
  },
  {
   "cell_type": "raw",
   "metadata": {},
   "source": [
    "# Syntax: np.dot(A,B) where A, B are matrixes.\n",
    "#Matrix multipication is possible only if the rows in matrix A equals to columns in the matrix B"
   ]
  },
  {
   "cell_type": "code",
   "execution_count": 81,
   "metadata": {},
   "outputs": [
    {
     "name": "stdout",
     "output_type": "stream",
     "text": [
      "A= [[1 2 3]\n",
      " [4 5 6]\n",
      " [7 8 9]]\n",
      "Order of Matrix A (3, 3)\n",
      "B= [[11 12 13]\n",
      " [14 15 16]\n",
      " [17 18 19]]\n",
      "Order of Matrix B (3, 3)\n"
     ]
    }
   ],
   "source": [
    "A = np.arange(1,10,1).reshape(3,3)\n",
    "B = np.arange(11,20,1).reshape(3,3)\n",
    "print(\"A=\",A)\n",
    "print(\"Order of Matrix A\",A.shape)\n",
    "print(\"B=\",B)\n",
    "print(\"Order of Matrix B\",B.shape)"
   ]
  },
  {
   "cell_type": "code",
   "execution_count": 83,
   "metadata": {},
   "outputs": [
    {
     "name": "stdout",
     "output_type": "stream",
     "text": [
      "[[ 90  96 102]\n",
      " [216 231 246]\n",
      " [342 366 390]]\n",
      "Order of matrix A_dot_B (3, 3)\n"
     ]
    }
   ],
   "source": [
    "A_dot_B=np.dot(A,B)\n",
    "print(A_dot_B)\n",
    "print(\"Order of matrix A_dot_B\",A_dot_B.shape)"
   ]
  },
  {
   "cell_type": "code",
   "execution_count": 84,
   "metadata": {},
   "outputs": [
    {
     "name": "stdout",
     "output_type": "stream",
     "text": [
      "A= [[1 2 3 4]\n",
      " [5 6 7 8]]\n",
      "Order of Matrix A (2, 4)\n",
      "B= [[11 12]\n",
      " [13 14]\n",
      " [15 16]\n",
      " [17 18]]\n",
      "Order of Matrix B (4, 2)\n"
     ]
    }
   ],
   "source": [
    "A = np.arange(1,9,1).reshape(2,4)\n",
    "B = np.arange(11,19,1).reshape(4,2)\n",
    "print(\"A=\",A)\n",
    "print(\"Order of Matrix A\",A.shape)\n",
    "print(\"B=\",B)\n",
    "print(\"Order of Matrix B\",B.shape)"
   ]
  },
  {
   "cell_type": "code",
   "execution_count": 85,
   "metadata": {},
   "outputs": [
    {
     "name": "stdout",
     "output_type": "stream",
     "text": [
      "[[150 160]\n",
      " [374 400]]\n",
      "Order of matrix A_dot_B (2, 2)\n"
     ]
    }
   ],
   "source": [
    "A_dot_B=np.dot(A,B)\n",
    "A_dot_B=np.dot(A,B)\n",
    "print(A_dot_B)\n",
    "print(\"Order of matrix A_dot_B\",A_dot_B.shape)"
   ]
  },
  {
   "cell_type": "markdown",
   "metadata": {},
   "source": [
    "### 7.Addition of elements of the Matrix"
   ]
  },
  {
   "cell_type": "raw",
   "metadata": {},
   "source": [
    "Syntax: \n",
    "np.sum(M) returns the sum of all the elements in a matrix\n",
    "np.sum(M,axis=1) returns the sum of all the elements in the corresponding row of the matrix\n",
    "np.sum(M,axis=0) returns the sum of all the elements in the corresponding column of the matrix    "
   ]
  },
  {
   "cell_type": "code",
   "execution_count": 88,
   "metadata": {},
   "outputs": [
    {
     "name": "stdout",
     "output_type": "stream",
     "text": [
      "[[ 0  5 10 15 20]\n",
      " [25 30 35 40 45]\n",
      " [50 55 60 65 70]\n",
      " [75 80 85 90 95]]\n"
     ]
    }
   ],
   "source": [
    "M = np.arange(0,100,5).reshape(4,5)\n",
    "print(M)"
   ]
  },
  {
   "cell_type": "code",
   "execution_count": 89,
   "metadata": {},
   "outputs": [
    {
     "data": {
      "text/plain": [
       "950"
      ]
     },
     "execution_count": 89,
     "metadata": {},
     "output_type": "execute_result"
    }
   ],
   "source": [
    "# sum of the matrix M\n",
    "np.sum(M)"
   ]
  },
  {
   "cell_type": "code",
   "execution_count": 90,
   "metadata": {},
   "outputs": [
    {
     "data": {
      "text/plain": [
       "array([ 50, 175, 300, 425])"
      ]
     },
     "execution_count": 90,
     "metadata": {},
     "output_type": "execute_result"
    }
   ],
   "source": [
    "# sum of the corresponding rows of the matrix M\n",
    "np.sum(M,axis=1)"
   ]
  },
  {
   "cell_type": "code",
   "execution_count": 91,
   "metadata": {},
   "outputs": [
    {
     "data": {
      "text/plain": [
       "array([150, 170, 190, 210, 230])"
      ]
     },
     "execution_count": 91,
     "metadata": {},
     "output_type": "execute_result"
    }
   ],
   "source": [
    "# sum of the corresponding columns of the matrix M\n",
    "np.sum(M,axis=0)"
   ]
  },
  {
   "cell_type": "markdown",
   "metadata": {},
   "source": [
    "### 8.Generation of random values"
   ]
  },
  {
   "cell_type": "raw",
   "metadata": {},
   "source": [
    "Syntax: np.random.rand(m,n), where m, n are the rows and columns of a matrix"
   ]
  },
  {
   "cell_type": "code",
   "execution_count": 94,
   "metadata": {},
   "outputs": [
    {
     "data": {
      "text/plain": [
       "array([[0.39662624, 0.44197007, 0.89963925, 0.36688751, 0.22278905],\n",
       "       [0.78683603, 0.3446167 , 0.68939527, 0.95149021, 0.59900668],\n",
       "       [0.63414681, 0.37968538, 0.7934025 , 0.62220137, 0.25375312],\n",
       "       [0.79855727, 0.15608206, 0.2584378 , 0.95138365, 0.13108921],\n",
       "       [0.53616203, 0.87393721, 0.14836097, 0.57126797, 0.48708445]])"
      ]
     },
     "execution_count": 94,
     "metadata": {},
     "output_type": "execute_result"
    }
   ],
   "source": [
    "np.random.rand(5,5)"
   ]
  },
  {
   "cell_type": "code",
   "execution_count": 96,
   "metadata": {},
   "outputs": [
    {
     "data": {
      "text/plain": [
       "array([[0.70477921, 0.9701307 , 0.79906988, 0.78055076, 0.48528767,\n",
       "        0.08841311, 0.51948255, 0.46333248, 0.2958159 , 0.57934974],\n",
       "       [0.61912581, 0.1515271 , 0.24470827, 0.75077806, 0.23084181,\n",
       "        0.66076031, 0.45535272, 0.53372472, 0.76562799, 0.19738003],\n",
       "       [0.56579162, 0.6208966 , 0.86912773, 0.86092017, 0.6277618 ,\n",
       "        0.37390985, 0.5372814 , 0.67844703, 0.1604741 , 0.93618448],\n",
       "       [0.76224671, 0.8676025 , 0.17961453, 0.95300961, 0.09474742,\n",
       "        0.73923857, 0.08369264, 0.62337109, 0.96033546, 0.88211714],\n",
       "       [0.08277493, 0.84144599, 0.88915443, 0.81553599, 0.12774771,\n",
       "        0.27789391, 0.80034387, 0.22737374, 0.63753769, 0.2520794 ]])"
      ]
     },
     "execution_count": 96,
     "metadata": {},
     "output_type": "execute_result"
    }
   ],
   "source": [
    "np.random.rand(5,10)"
   ]
  },
  {
   "cell_type": "markdown",
   "metadata": {},
   "source": [
    "### 9.Append of new elements to the matrix"
   ]
  },
  {
   "cell_type": "raw",
   "metadata": {},
   "source": [
    "Syntax:\n",
    "np.append(A,100), appends the element 100 to the matrix A\n",
    "np.append(A,[100,200,300,500]), appends the array elements to the matrix A\n",
    "np.append(A,B)"
   ]
  },
  {
   "cell_type": "code",
   "execution_count": 99,
   "metadata": {},
   "outputs": [
    {
     "name": "stdout",
     "output_type": "stream",
     "text": [
      "[ 1  2  3  4  5  6  7  8  9 10]\n",
      "[  1   2   3   4   5   6   7   8   9  10 100]\n"
     ]
    }
   ],
   "source": [
    "# appends the element 100 to the matrix A\n",
    "A = np.arange(1,11,1)\n",
    "print(A)\n",
    "B=np.append(A,100)\n",
    "print(B)"
   ]
  },
  {
   "cell_type": "code",
   "execution_count": 101,
   "metadata": {},
   "outputs": [
    {
     "name": "stdout",
     "output_type": "stream",
     "text": [
      "[   1    2    3    4    5    6    7    8    9   10  100  200  300  400\n",
      "  500  600  700  800  900 1000]\n"
     ]
    }
   ],
   "source": [
    "# appends the elements 200 to 1000 to the matrix B\n",
    "C = np.append(B,[200,300,400,500,600,700,800,900,1000])\n",
    "print(C)"
   ]
  },
  {
   "cell_type": "code",
   "execution_count": 102,
   "metadata": {},
   "outputs": [
    {
     "name": "stdout",
     "output_type": "stream",
     "text": [
      "[   1    2    3    4    5    6    7    8    9   10  100  200  300  400\n",
      "  500  600  700  800  900 1000 -100  -95  -90  -85  -80  -75  -70  -65\n",
      "  -60  -55  -50  -45  -40  -35  -30  -25  -20  -15  -10   -5]\n"
     ]
    }
   ],
   "source": [
    "D = np.append(C,np.arange(-100,0,5))\n",
    "print(D)"
   ]
  },
  {
   "cell_type": "code",
   "execution_count": 104,
   "metadata": {},
   "outputs": [
    {
     "data": {
      "text/plain": [
       "array([   1,    2,    3,    4,    5,    6,    7,    8,    9,   10,    1,\n",
       "          2,    3,    4,    5,    6,    7,    8,    9,   10,  100,  200,\n",
       "        300,  400,  500,  600,  700,  800,  900, 1000, -100,  -95,  -90,\n",
       "        -85,  -80,  -75,  -70,  -65,  -60,  -55,  -50,  -45,  -40,  -35,\n",
       "        -30,  -25,  -20,  -15,  -10,   -5])"
      ]
     },
     "execution_count": 104,
     "metadata": {},
     "output_type": "execute_result"
    }
   ],
   "source": [
    "np.append(A,D)"
   ]
  },
  {
   "cell_type": "markdown",
   "metadata": {},
   "source": [
    "### 10. Different between adjacent elements of array"
   ]
  },
  {
   "cell_type": "raw",
   "metadata": {},
   "source": [
    "Syntax:\n",
    "np.diff(A,n=m), where it perform the difference of adjacent elements m times\n",
    "Eg: A[n+1]-A[n] will be performed m times."
   ]
  },
  {
   "cell_type": "code",
   "execution_count": 160,
   "metadata": {},
   "outputs": [
    {
     "name": "stdout",
     "output_type": "stream",
     "text": [
      "[  0   5  10  15  20  25  30  35  40  45  50  55  60  65  70  75  80  85\n",
      "  90  95 100]\n",
      "(21,)\n",
      "[0 0 0 0 0 0 0 0 0 0 0 0 0 0 0 0 0 0 0]\n",
      "(19,)\n"
     ]
    }
   ],
   "source": [
    "M = np.arange(0,101,5)\n",
    "print(M)\n",
    "print(M.shape)\n",
    "M1= np.diff(M,n=2)\n",
    "print(M1)\n",
    "print(M1.shape)"
   ]
  },
  {
   "cell_type": "markdown",
   "metadata": {},
   "source": [
    "### 11. Stack of Elements VStack and Column Stack"
   ]
  },
  {
   "cell_type": "raw",
   "metadata": {},
   "source": [
    "np.vstack((a,b,c))\n",
    "np.column_stack((a,b,c))"
   ]
  },
  {
   "cell_type": "code",
   "execution_count": 113,
   "metadata": {},
   "outputs": [
    {
     "data": {
      "text/plain": [
       "array([[1, 2, 3],\n",
       "       [4, 5, 6],\n",
       "       [7, 8, 9]])"
      ]
     },
     "execution_count": 113,
     "metadata": {},
     "output_type": "execute_result"
    }
   ],
   "source": [
    "a =[1,2,3]\n",
    "b =[4,5,6]\n",
    "c= [7,8,9]\n",
    "np.vstack((a,b,c))"
   ]
  },
  {
   "cell_type": "code",
   "execution_count": 115,
   "metadata": {},
   "outputs": [
    {
     "data": {
      "text/plain": [
       "array([[7, 8, 9],\n",
       "       [4, 5, 6],\n",
       "       [1, 2, 3]])"
      ]
     },
     "execution_count": 115,
     "metadata": {},
     "output_type": "execute_result"
    }
   ],
   "source": [
    "np.vstack((c,b,a))"
   ]
  },
  {
   "cell_type": "code",
   "execution_count": 116,
   "metadata": {},
   "outputs": [
    {
     "data": {
      "text/plain": [
       "array([[1, 4, 7],\n",
       "       [2, 5, 8],\n",
       "       [3, 6, 9]])"
      ]
     },
     "execution_count": 116,
     "metadata": {},
     "output_type": "execute_result"
    }
   ],
   "source": [
    "np.column_stack((a,b,c))"
   ]
  },
  {
   "cell_type": "code",
   "execution_count": 117,
   "metadata": {},
   "outputs": [
    {
     "data": {
      "text/plain": [
       "array([[7, 4, 1],\n",
       "       [8, 5, 2],\n",
       "       [9, 6, 3]])"
      ]
     },
     "execution_count": 117,
     "metadata": {},
     "output_type": "execute_result"
    }
   ],
   "source": [
    "np.column_stack((c,b,a))"
   ]
  },
  {
   "cell_type": "markdown",
   "metadata": {},
   "source": [
    "### 12. Array Slicing:Selection of Elements of an array or matrix"
   ]
  },
  {
   "cell_type": "code",
   "execution_count": 137,
   "metadata": {},
   "outputs": [
    {
     "name": "stdout",
     "output_type": "stream",
     "text": [
      "[[0.44575616 0.00364205 0.50510413]\n",
      " [0.02693689 0.88620819 0.43478223]\n",
      " [0.96445405 0.96681577 0.82833034]]\n"
     ]
    }
   ],
   "source": [
    "R = np.random.rand(3,3)\n",
    "print(R)"
   ]
  },
  {
   "cell_type": "code",
   "execution_count": 142,
   "metadata": {},
   "outputs": [
    {
     "data": {
      "text/plain": [
       "array([[0.02693689, 0.88620819, 0.43478223],\n",
       "       [0.96445405, 0.96681577, 0.82833034]])"
      ]
     },
     "execution_count": 142,
     "metadata": {},
     "output_type": "execute_result"
    }
   ],
   "source": [
    "R[1:3]"
   ]
  },
  {
   "cell_type": "code",
   "execution_count": 144,
   "metadata": {},
   "outputs": [
    {
     "data": {
      "text/plain": [
       "array([[0.44575616, 0.00364205, 0.50510413],\n",
       "       [0.02693689, 0.88620819, 0.43478223],\n",
       "       [0.96445405, 0.96681577, 0.82833034]])"
      ]
     },
     "execution_count": 144,
     "metadata": {},
     "output_type": "execute_result"
    }
   ],
   "source": [
    "R[0:]"
   ]
  },
  {
   "cell_type": "code",
   "execution_count": 145,
   "metadata": {},
   "outputs": [
    {
     "data": {
      "text/plain": [
       "array([[0.02693689, 0.88620819, 0.43478223]])"
      ]
     },
     "execution_count": 145,
     "metadata": {},
     "output_type": "execute_result"
    }
   ],
   "source": [
    "R[1:2]"
   ]
  },
  {
   "cell_type": "code",
   "execution_count": 149,
   "metadata": {},
   "outputs": [],
   "source": [
    "R1 = np.array([1,3,4,5,6,7,8])"
   ]
  },
  {
   "cell_type": "code",
   "execution_count": 150,
   "metadata": {},
   "outputs": [
    {
     "data": {
      "text/plain": [
       "5"
      ]
     },
     "execution_count": 150,
     "metadata": {},
     "output_type": "execute_result"
    }
   ],
   "source": [
    "R1[3]"
   ]
  },
  {
   "cell_type": "code",
   "execution_count": 152,
   "metadata": {},
   "outputs": [
    {
     "data": {
      "text/plain": [
       "array([5, 6, 7])"
      ]
     },
     "execution_count": 152,
     "metadata": {},
     "output_type": "execute_result"
    }
   ],
   "source": [
    "R1[3:6]"
   ]
  },
  {
   "cell_type": "markdown",
   "metadata": {},
   "source": [
    "### 13. Array Broadcasting"
   ]
  },
  {
   "cell_type": "raw",
   "metadata": {},
   "source": [
    "Broadcasting extends an operation (eg: add,subtract, multiply and div) to the array or matrix"
   ]
  },
  {
   "cell_type": "code",
   "execution_count": 154,
   "metadata": {},
   "outputs": [
    {
     "name": "stdout",
     "output_type": "stream",
     "text": [
      "[ 0  5 10 15 20 25 30 35 40 45 50 55 60 65 70 75 80 85 90 95]\n"
     ]
    }
   ],
   "source": [
    "B=np.arange(0,100,5)\n",
    "print(B)"
   ]
  },
  {
   "cell_type": "code",
   "execution_count": 155,
   "metadata": {},
   "outputs": [
    {
     "data": {
      "text/plain": [
       "array([  5,  10,  15,  20,  25,  30,  35,  40,  45,  50,  55,  60,  65,\n",
       "        70,  75,  80,  85,  90,  95, 100])"
      ]
     },
     "execution_count": 155,
     "metadata": {},
     "output_type": "execute_result"
    }
   ],
   "source": [
    "B+5"
   ]
  },
  {
   "cell_type": "code",
   "execution_count": 156,
   "metadata": {},
   "outputs": [
    {
     "data": {
      "text/plain": [
       "array([-50, -45, -40, -35, -30, -25, -20, -15, -10,  -5,   0,   5,  10,\n",
       "        15,  20,  25,  30,  35,  40,  45])"
      ]
     },
     "execution_count": 156,
     "metadata": {},
     "output_type": "execute_result"
    }
   ],
   "source": [
    "B-50"
   ]
  },
  {
   "cell_type": "code",
   "execution_count": 161,
   "metadata": {},
   "outputs": [
    {
     "data": {
      "text/plain": [
       "array([  0,  10,  20,  30,  40,  50,  60,  70,  80,  90, 100, 110, 120,\n",
       "       130, 140, 150, 160, 170, 180, 190])"
      ]
     },
     "execution_count": 161,
     "metadata": {},
     "output_type": "execute_result"
    }
   ],
   "source": [
    "B*2"
   ]
  },
  {
   "cell_type": "code",
   "execution_count": 162,
   "metadata": {},
   "outputs": [
    {
     "data": {
      "text/plain": [
       "array([ 0.,  1.,  2.,  3.,  4.,  5.,  6.,  7.,  8.,  9., 10., 11., 12.,\n",
       "       13., 14., 15., 16., 17., 18., 19.])"
      ]
     },
     "execution_count": 162,
     "metadata": {},
     "output_type": "execute_result"
    }
   ],
   "source": [
    "B/5"
   ]
  }
 ],
 "metadata": {
  "kernelspec": {
   "display_name": "Python 3",
   "language": "python",
   "name": "python3"
  },
  "language_info": {
   "codemirror_mode": {
    "name": "ipython",
    "version": 3
   },
   "file_extension": ".py",
   "mimetype": "text/x-python",
   "name": "python",
   "nbconvert_exporter": "python",
   "pygments_lexer": "ipython3",
   "version": "3.6.5"
  }
 },
 "nbformat": 4,
 "nbformat_minor": 2
}
